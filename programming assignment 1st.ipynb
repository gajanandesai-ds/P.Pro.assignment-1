{
 "cells": [
  {
   "cell_type": "raw",
   "id": "4432298a",
   "metadata": {},
   "source": [
    "1. Write a Python program to print 'Hello Python'?"
   ]
  },
  {
   "cell_type": "code",
   "execution_count": 2,
   "id": "47228b74",
   "metadata": {},
   "outputs": [
    {
     "name": "stdout",
     "output_type": "stream",
     "text": [
      "hello python\n"
     ]
    }
   ],
   "source": [
    "print('hello python')"
   ]
  },
  {
   "cell_type": "raw",
   "id": "69809eff",
   "metadata": {},
   "source": [
    "2. Write a Python program to do arithmetical operations addition and division.?"
   ]
  },
  {
   "cell_type": "code",
   "execution_count": 3,
   "id": "b244aef4",
   "metadata": {},
   "outputs": [
    {
     "name": "stdout",
     "output_type": "stream",
     "text": [
      "plese enter the value a20\n",
      "plese enter the value b10\n",
      " sum of a and b:30\n",
      " divide of a and b:2.0\n"
     ]
    }
   ],
   "source": [
    "a=int(input(\"plese enter the value a\"))\n",
    "b=int(input(\"plese enter the value b\"))\n",
    "\n",
    "#add=class1+class2\n",
    "#divide = class1/class2\n",
    "\n",
    "print(f\" sum of a and b:{a+b}\")\n",
    "print(f\" divide of a and b:{a/b}\")"
   ]
  },
  {
   "cell_type": "raw",
   "id": "a23b5893",
   "metadata": {},
   "source": [
    "3. Write a Python program to find the area of a triangle?"
   ]
  },
  {
   "cell_type": "code",
   "execution_count": 12,
   "id": "d474704c",
   "metadata": {},
   "outputs": [
    {
     "name": "stdout",
     "output_type": "stream",
     "text": [
      "Enter the base of the tringle:2.5\n",
      "Enter the height of the triangle:5\n",
      "Area of triangle =  6.25\n"
     ]
    }
   ],
   "source": [
    "h=float(input(\"Enter the base of the tringle:\"))\n",
    "b=float(input(\"Enter the height of the triangle:\"))\n",
    "area=0.5*b*h\n",
    "print(\"Area of triangle = \",area)"
   ]
  },
  {
   "cell_type": "code",
   "execution_count": 15,
   "id": "67932dee",
   "metadata": {},
   "outputs": [
    {
     "name": "stdout",
     "output_type": "stream",
     "text": [
      "Enter the base of the tringle:5.5\n",
      "Enter the height of the triangle:10\n",
      "Area of triangle =  27.5\n"
     ]
    }
   ],
   "source": [
    "h=float(input(\"Enter the base of the tringle:\"))\n",
    "b=float(input(\"Enter the height of the triangle:\"))\n",
    "area=0.5*b*h\n",
    "print(\"Area of triangle = \",area)"
   ]
  },
  {
   "cell_type": "raw",
   "id": "fa5dd76b",
   "metadata": {},
   "source": [
    "4. Write a Python program to swap two variables?"
   ]
  },
  {
   "cell_type": "code",
   "execution_count": 2,
   "id": "39f5747e",
   "metadata": {},
   "outputs": [
    {
     "name": "stdout",
     "output_type": "stream",
     "text": [
      "please enter value for a:20\n",
      "please enter value for b:40\n",
      "The value of a after swapping: 40\n",
      "The value of b after swapping: 20\n"
     ]
    }
   ],
   "source": [
    "a=int(input(\"please enter value for a:\"))\n",
    "b=int(input(\"please enter value for b:\"))\n",
    "\n",
    "a=a+b\n",
    "b=a-b\n",
    "a=a-b\n",
    "\n",
    "print(\"The value of a after swapping:\",a)\n",
    "print(\"The value of b after swapping:\",b)"
   ]
  },
  {
   "cell_type": "raw",
   "id": "98e143d6",
   "metadata": {},
   "source": [
    "5. Write a Python program to generate a random number?"
   ]
  },
  {
   "cell_type": "code",
   "execution_count": 3,
   "id": "21b3b06a",
   "metadata": {},
   "outputs": [
    {
     "name": "stdout",
     "output_type": "stream",
     "text": [
      "3\n"
     ]
    }
   ],
   "source": [
    "import random\n",
    "\n",
    "print(random.randint(0,9))"
   ]
  },
  {
   "cell_type": "code",
   "execution_count": 4,
   "id": "18a8e42e",
   "metadata": {},
   "outputs": [
    {
     "name": "stdout",
     "output_type": "stream",
     "text": [
      "17\n"
     ]
    }
   ],
   "source": [
    "import random\n",
    "\n",
    "print(random.randint(0,20))"
   ]
  },
  {
   "cell_type": "code",
   "execution_count": null,
   "id": "63799bac",
   "metadata": {},
   "outputs": [],
   "source": []
  }
 ],
 "metadata": {
  "kernelspec": {
   "display_name": "Python 3",
   "language": "python",
   "name": "python3"
  },
  "language_info": {
   "codemirror_mode": {
    "name": "ipython",
    "version": 3
   },
   "file_extension": ".py",
   "mimetype": "text/x-python",
   "name": "python",
   "nbconvert_exporter": "python",
   "pygments_lexer": "ipython3",
   "version": "3.8.8"
  }
 },
 "nbformat": 4,
 "nbformat_minor": 5
}
